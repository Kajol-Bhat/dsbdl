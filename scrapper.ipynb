{
  "cells": [
    {
      "cell_type": "code",
      "execution_count": null,
      "metadata": {
        "colab": {
          "base_uri": "https://localhost:8080/"
        },
        "id": "TPb9TVOTcSEz",
        "outputId": "d3416dd4-a534-4a3a-ad12-10a03d52f736"
      },
      "outputs": [
        {
          "name": "stdout",
          "output_type": "stream",
          "text": [
            "{'name': 'Asus ROG STRIX...', 'price': '$799', 'description': 'Asus ROG STRIX GL553VD-DM256, 15.6\" FHD, Core i5-7300HQ, 8GB, 1TB, GeForce GTX 1050 2GB, No OS', 'reviews': 'N/A'}\n",
            "{'name': 'Toshiba Porteg...', 'price': '$1366.32', 'description': 'Toshiba Portege X20W-D-10V Black/Blue, 12.5\" FHD Touch, Core i7-7500U, 8GB, 512GB SSD, Windows 10 Pro', 'reviews': 'N/A'}\n",
            "{'name': 'Lenovo IdeaTab', 'price': '$69.99', 'description': '7\" screen, Android', 'reviews': 'N/A'}\n"
          ]
        }
      ],
      "source": [
        "# Url= https://webscraper.io/test-sites/e-commerce/more\n",
        "\n",
        "import requests\n",
        "from bs4 import BeautifulSoup\n",
        "\n",
        "def scrape_ecommerce_data(url):\n",
        "    try:\n",
        "        response = requests.get(url)\n",
        "        response.raise_for_status()  # Raise an exception for bad status codes\n",
        "\n",
        "        soup = BeautifulSoup(response.content, 'html.parser')\n",
        "\n",
        "        products = []\n",
        "        for product_div in soup.find_all('div', class_='col-md-4'):  # Adjust the class if needed\n",
        "            product = {}\n",
        "\n",
        "            # Extract product name\n",
        "            name_tag = product_div.find('a', class_='title') # Adjust the class if needed\n",
        "            product['name'] = name_tag.text.strip() if name_tag else 'N/A'\n",
        "\n",
        "            # Extract product price\n",
        "            price_tag = product_div.find('h4', class_='price')  # Adjust the class if needed\n",
        "            product['price'] = price_tag.text.strip() if price_tag else 'N/A'\n",
        "\n",
        "            # Extract product description (if available)\n",
        "            description_tag = product_div.find('p', class_='description') # Adjust the class if needed\n",
        "            product['description'] = description_tag.text.strip() if description_tag else 'N/A'\n",
        "\n",
        "            # Extract product review count (if available) - you'll need to inspect the website to find the appropriate tags\n",
        "            review_count_tag = product_div.find('p', class_='pull-right') # Example - might need adjustment\n",
        "            product['reviews'] = review_count_tag.text.strip() if review_count_tag else 'N/A'\n",
        "\n",
        "            # Extract other data such as ratings, comments, etc. following the same approach\n",
        "\n",
        "            products.append(product)\n",
        "\n",
        "        return products\n",
        "\n",
        "    except requests.exceptions.RequestException as e:\n",
        "        print(f\"Error fetching URL: {e}\")\n",
        "        return None\n",
        "    except Exception as e:  # Catch other potential errors\n",
        "        print(f\"An error occurred: {e}\")\n",
        "        return None\n",
        "\n",
        "if __name__ == \"__main__\":\n",
        "    url = \"https://webscraper.io/test-sites/e-commerce/more\"\n",
        "    product_data = scrape_ecommerce_data(url)\n",
        "    if product_data:\n",
        "        for product in product_data:\n",
        "            print(product)\n"
      ]
    },
    {
      "cell_type": "code",
      "execution_count": null,
      "metadata": {
        "id": "U-NlQsY-c610"
      },
      "outputs": [],
      "source": []
    }
  ],
  "metadata": {
    "colab": {
      "provenance": []
    },
    "kernelspec": {
      "display_name": "Python 3",
      "name": "python3"
    },
    "language_info": {
      "name": "python"
    }
  },
  "nbformat": 4,
  "nbformat_minor": 0
}
